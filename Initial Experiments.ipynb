{
 "cells": [
  {
   "cell_type": "markdown",
   "metadata": {},
   "source": [
    "# Initial Experiments\n",
    "\n",
    "### 10/3/2018\n",
    "\n",
    "These experiments are intended just to get a feel for the possible document similarity algorithms out there"
   ]
  },
  {
   "cell_type": "markdown",
   "metadata": {},
   "source": [
    "## Common Data Functionality\n",
    "\n",
    "[Data source](https://webhose.io/datasets/) (English news articles)"
   ]
  },
  {
   "cell_type": "code",
   "execution_count": 17,
   "metadata": {},
   "outputs": [],
   "source": [
    "import os\n",
    "import json"
   ]
  },
  {
   "cell_type": "code",
   "execution_count": 14,
   "metadata": {},
   "outputs": [],
   "source": [
    "# TODO: add progress.py\n",
    "\n",
    "# get the list of filenames of articles\n",
    "doc_labels = []\n",
    "doc_labels = [f for f in os.listdir(\"data/news\") if f.endswith('.json')]\n",
    "\n",
    "# iterate each filename, and append the json to a data array\n",
    "data = []\n",
    "for doc in doc_labels:\n",
    "    with open(\"data/news/{0}\".format(doc)) as file:\n",
    "        data.append(json.loads(file.read()))"
   ]
  },
  {
   "cell_type": "code",
   "execution_count": 16,
   "metadata": {},
   "outputs": [
    {
     "data": {
      "text/plain": [
       "70000"
      ]
     },
     "execution_count": 16,
     "metadata": {},
     "output_type": "execute_result"
    }
   ],
   "source": [
    "# verify we got all the things\n",
    "len(data)"
   ]
  },
  {
   "cell_type": "markdown",
   "metadata": {},
   "source": [
    "Organize the data a bit so it can be more readily accessed as needed. By default each article in this dataset comes with a bunch of other stuff (some of which might be usable for testing later on?)"
   ]
  },
  {
   "cell_type": "code",
   "execution_count": 27,
   "metadata": {},
   "outputs": [
    {
     "name": "stdout",
     "output_type": "stream",
     "text": [
      "{'organizations': [], 'uuid': '8b92bef7c1f346826b2782a1c4add77b8643df84', 'thread': {'social': {'gplus': {'shares': 0}, 'pinterest': {'shares': 0}, 'vk': {'shares': 0}, 'linkedin': {'shares': 0}, 'facebook': {'likes': 0, 'shares': 0, 'comments': 0}, 'stumbledupon': {'shares': 0}}, 'site_full': 'www.yahoo.com', 'main_image': 'https://s.yimg.com/os/mit/media/m/social/images/social_default_logo-1481777.png', 'site_section': 'http://news.yahoo.com/rss/world', 'section_title': 'World News Headlines - Yahoo News', 'url': 'https://www.yahoo.com/news/taiwanese-airline-transasia-shuts-down-heavy-losses-072321844--finance.html?ref=gs', 'country': 'US', 'domain_rank': 5, 'title': 'Taiwanese airline TransAsia shuts down after heavy losses', 'performance_score': 0, 'site': 'yahoo.com', 'participants_count': 0, 'title_full': 'Taiwanese airline TransAsia shuts down after heavy losses', 'spam_score': 0.0, 'site_type': 'news', 'published': '2016-11-22T02:00:00.000+02:00', 'replies_count': 0, 'uuid': '8b92bef7c1f346826b2782a1c4add77b8643df84'}, 'author': '', 'url': 'https://www.yahoo.com/news/taiwanese-airline-transasia-shuts-down-heavy-losses-072321844--finance.html?ref=gs', 'ord_in_thread': 0, 'title': 'Taiwanese airline TransAsia shuts down after heavy losses', 'locations': [], 'entities': {'persons': [{'name': 'vincent lin', 'sentiment': 'none'}], 'locations': [{'name': 'taiwan', 'sentiment': 'none'}, {'name': 'taipei', 'sentiment': 'none'}, {'name': 'southeast asia', 'sentiment': 'none'}, {'name': 'japan', 'sentiment': 'none'}, {'name': 'china', 'sentiment': 'none'}], 'organizations': [{'name': 'ap', 'sentiment': 'negative'}, {'name': 'transasia', 'sentiment': 'negative'}]}, 'highlightText': '', 'language': 'english', 'persons': [], 'text': \"TAIPEI, Taiwan (AP) — Taiwanese airline TransAsia has announced it is shutting down following financial losses and two fatal crashes. TransAsia chairman Vincent Lin said Tuesday the airline, which served cities in China, Japan and Southeast Asia, was unable to reverse widening losses or raise additional money.\\nTransAsia was established in 1951 as Taiwan's first privately owned airline.\\nThe carrier suffered two fatal crashes in 2014 and early 2015, both in Taiwan, that killed a total of 92 people.\", 'external_links': [], 'published': '2016-11-22T02:00:00.000+02:00', 'crawled': '2016-11-22T11:39:05.865+02:00', 'highlightTitle': ''}\n",
      "-----\n",
      "dict_keys(['organizations', 'uuid', 'thread', 'author', 'url', 'ord_in_thread', 'title', 'locations', 'entities', 'highlightText', 'language', 'persons', 'text', 'external_links', 'published', 'crawled', 'highlightTitle'])\n"
     ]
    }
   ],
   "source": [
    "print(data[0])\n",
    "print(\"-----\")\n",
    "print(data[0].keys())"
   ]
  },
  {
   "cell_type": "code",
   "execution_count": 38,
   "metadata": {},
   "outputs": [],
   "source": [
    "text_data = [article[\"text\"] for article in data]"
   ]
  },
  {
   "cell_type": "code",
   "execution_count": 39,
   "metadata": {},
   "outputs": [
    {
     "data": {
      "text/plain": [
       "\"TAIPEI, Taiwan (AP) — Taiwanese airline TransAsia has announced it is shutting down following financial losses and two fatal crashes. TransAsia chairman Vincent Lin said Tuesday the airline, which served cities in China, Japan and Southeast Asia, was unable to reverse widening losses or raise additional money.\\nTransAsia was established in 1951 as Taiwan's first privately owned airline.\\nThe carrier suffered two fatal crashes in 2014 and early 2015, both in Taiwan, that killed a total of 92 people.\""
      ]
     },
     "execution_count": 39,
     "metadata": {},
     "output_type": "execute_result"
    }
   ],
   "source": [
    "text_data[0]"
   ]
  },
  {
   "cell_type": "markdown",
   "metadata": {},
   "source": [
    "## Doc2vec\n",
    "\n",
    "[Medium tutorial](https://medium.com/@mishra.thedeepak/doc2vec-in-a-simple-way-fa80bfe81104)  \n",
    "[Another, newer medium tutorial](https://medium.com/@mishra.thedeepak/doc2vec-simple-implementation-example-df2afbbfbad5)"
   ]
  },
  {
   "cell_type": "code",
   "execution_count": 53,
   "metadata": {},
   "outputs": [
    {
     "name": "stdout",
     "output_type": "stream",
     "text": [
      "[nltk_data] Downloading package stopwords to /home/dwl/nltk_data...\n",
      "[nltk_data]   Package stopwords is already up-to-date!\n"
     ]
    },
    {
     "data": {
      "text/plain": [
       "True"
      ]
     },
     "execution_count": 53,
     "metadata": {},
     "output_type": "execute_result"
    }
   ],
   "source": [
    "import gensim\n",
    "from gensim.models.doc2vec import Doc2Vec, TaggedDocument\n",
    "\n",
    "import nltk\n",
    "from nltk import RegexpTokenizer\n",
    "from nltk.corpus import stopwords\n",
    "\n",
    "nltk.download(\"stopwords\")"
   ]
  },
  {
   "cell_type": "markdown",
   "metadata": {},
   "source": [
    "First step of any experiment is to clean the data!"
   ]
  },
  {
   "cell_type": "code",
   "execution_count": 90,
   "metadata": {},
   "outputs": [],
   "source": [
    "tokenizer = RegexpTokenizer(r'\\w+')\n",
    "stopword_set = set(stopwords.words('english'))\n",
    "\n",
    "# clean data via tokenizer and stopword removal\n",
    "def nlp_clean(data):\n",
    "    \"\"\"Returns a tokenized and stopword-removed version of \n",
    "    every array element.\"\"\"\n",
    "    \n",
    "    clean_data = []\n",
    "    for d in data:\n",
    "        new_str = d.lower()\n",
    "        dlist = tokenizer.tokenize(new_str)\n",
    "        dlist = list(set(dlist).difference(stopword_set))\n",
    "        clean_data.append(dlist)\n",
    "    return clean_data"
   ]
  },
  {
   "cell_type": "code",
   "execution_count": 91,
   "metadata": {},
   "outputs": [],
   "source": [
    "cleaned_text_data = nlp_clean(text_data)"
   ]
  },
  {
   "cell_type": "markdown",
   "metadata": {},
   "source": [
    "Next we create an iterator for all the documents, which seems to be necessary for the gensim model to work (note that \"labels\" are just the file names - a way for it to keep track of what document is what)"
   ]
  },
  {
   "cell_type": "code",
   "execution_count": 59,
   "metadata": {},
   "outputs": [],
   "source": [
    "class DocIterator(object):\n",
    "    \"\"\"A class acting as an iterator for the gensim models.\"\"\"\n",
    "    \n",
    "    def __init__(self, doc_list, labels_list):\n",
    "        self.labels_list = labels_list\n",
    "        self.doc_list = doc_list\n",
    "        \n",
    "    def __iter__(self):\n",
    "        for idx, doc in enumerate(self.doc_list):\n",
    "            yield TaggedDocument(doc, [self.labels_list[idx]])   "
   ]
  },
  {
   "cell_type": "code",
   "execution_count": 51,
   "metadata": {},
   "outputs": [],
   "source": [
    "it = DocIterator(cleaned_text_data, doc_labels)"
   ]
  },
  {
   "cell_type": "markdown",
   "metadata": {},
   "source": [
    "Finally we get to the good stuff - doing all the modely things. Size is the number of features, alpha is the learning rate, and min_count is the minimum number of times a words needs to appear in order to be used"
   ]
  },
  {
   "cell_type": "code",
   "execution_count": 92,
   "metadata": {
    "scrolled": true
   },
   "outputs": [
    {
     "name": "stdout",
     "output_type": "stream",
     "text": [
      "iteration 1\n",
      "iteration 2\n",
      "iteration 3\n",
      "iteration 4\n",
      "iteration 5\n",
      "iteration 6\n",
      "iteration 7\n",
      "iteration 8\n",
      "iteration 9\n",
      "iteration 10\n",
      "iteration 11\n",
      "iteration 12\n",
      "iteration 13\n",
      "iteration 14\n",
      "iteration 15\n",
      "iteration 16\n",
      "iteration 17\n",
      "iteration 18\n",
      "iteration 19\n",
      "iteration 20\n",
      "iteration 21\n",
      "iteration 22\n",
      "iteration 23\n",
      "iteration 24\n",
      "iteration 25\n",
      "iteration 26\n",
      "iteration 27\n",
      "iteration 28\n",
      "iteration 29\n",
      "iteration 30\n",
      "iteration 31\n",
      "iteration 32\n",
      "iteration 33\n",
      "iteration 34\n",
      "iteration 35\n",
      "iteration 36\n",
      "iteration 37\n",
      "iteration 38\n",
      "iteration 39\n",
      "iteration 40\n",
      "iteration 41\n",
      "iteration 42\n",
      "iteration 43\n",
      "iteration 44\n",
      "iteration 45\n",
      "iteration 46\n",
      "iteration 47\n",
      "iteration 48\n",
      "iteration 49\n",
      "iteration 50\n",
      "iteration 51\n",
      "iteration 52\n",
      "iteration 53\n",
      "iteration 54\n",
      "iteration 55\n",
      "iteration 56\n",
      "iteration 57\n",
      "iteration 58\n",
      "iteration 59\n",
      "iteration 60\n",
      "iteration 61\n",
      "iteration 62\n",
      "iteration 63\n",
      "iteration 64\n",
      "iteration 65\n",
      "iteration 66\n",
      "iteration 67\n",
      "iteration 68\n",
      "iteration 69\n",
      "iteration 70\n",
      "iteration 71\n",
      "iteration 72\n",
      "iteration 73\n",
      "iteration 74\n",
      "iteration 75\n",
      "iteration 76\n",
      "iteration 77\n",
      "iteration 78\n",
      "iteration 79\n",
      "iteration 80\n",
      "iteration 81\n",
      "iteration 82\n",
      "iteration 83\n",
      "iteration 84\n",
      "iteration 85\n",
      "iteration 86\n",
      "iteration 87\n",
      "iteration 88\n",
      "iteration 89\n",
      "iteration 90\n",
      "iteration 91\n",
      "iteration 92\n",
      "iteration 93\n",
      "iteration 94\n",
      "iteration 95\n",
      "iteration 96\n",
      "iteration 97\n",
      "iteration 98\n",
      "iteration 99\n",
      "iteration 100\n"
     ]
    }
   ],
   "source": [
    "#model = Doc2Vec(vector_size=300, min_count=0, alpha=.025, min_alpha=.025)\n",
    "#model.build_vocab(it)\n",
    "\n",
    "documents = [TaggedDocument(doc, [i]) for i, doc in enumerate(cleaned_text_data)]\n",
    "model = Doc2Vec(documents, vector_size=5, min_count=1, workers=4)\n",
    "            \n",
    "\n",
    "# train the model\n",
    "for epoch in range(100):\n",
    "    print('iteration {0}'.format(epoch + 1))\n",
    "    model.train(it, total_examples=model.corpus_count, epochs=model.epochs)\n",
    "    model.alpha -= .002 # annealing?\n",
    "    model.min_alpha = model.alpha\n",
    "    \n",
    "# saving the created model\n",
    "#model.save('doc2vec.model')\n",
    "\n",
    "# loading the created model\n",
    "#model = Doc2Vec.load('doc2vec.model')\n"
   ]
  },
  {
   "cell_type": "code",
   "execution_count": 93,
   "metadata": {},
   "outputs": [
    {
     "data": {
      "text/plain": [
       "array([-0.64948785, -0.66313255, -0.41883677,  0.21751669, -0.85845864],\n",
       "      dtype=float32)"
      ]
     },
     "execution_count": 93,
     "metadata": {},
     "output_type": "execute_result"
    }
   ],
   "source": [
    "model.docvecs[1] # vector of file index 0\n",
    "#model.docvecs[\"news_0075624\"] # NOTE: doesn't work?"
   ]
  },
  {
   "cell_type": "code",
   "execution_count": 94,
   "metadata": {},
   "outputs": [
    {
     "name": "stderr",
     "output_type": "stream",
     "text": [
      "/usr/lib/python3.7/site-packages/gensim/matutils.py:737: FutureWarning: Conversion of the second argument of issubdtype from `int` to `np.signedinteger` is deprecated. In future, it will be treated as `np.int64 == np.dtype(int).type`.\n",
      "  if np.issubdtype(vec.dtype, np.int):\n"
     ]
    },
    {
     "data": {
      "text/plain": [
       "[(13943, 0.9998277425765991),\n",
       " (9309, 0.9993250370025635),\n",
       " (52976, 0.9989607930183411),\n",
       " (50930, 0.9989186525344849),\n",
       " (29316, 0.9988681077957153),\n",
       " (11447, 0.998862624168396),\n",
       " (55467, 0.9987135529518127),\n",
       " (30052, 0.9987015128135681),\n",
       " (26618, 0.998691201210022),\n",
       " (62834, 0.9986816644668579)]"
      ]
     },
     "execution_count": 94,
     "metadata": {},
     "output_type": "execute_result"
    }
   ],
   "source": [
    "model.docvecs.most_similar(1)"
   ]
  }
 ],
 "metadata": {
  "kernelspec": {
   "display_name": "Python 3",
   "language": "python",
   "name": "python3"
  },
  "language_info": {
   "codemirror_mode": {
    "name": "ipython",
    "version": 3
   },
   "file_extension": ".py",
   "mimetype": "text/x-python",
   "name": "python",
   "nbconvert_exporter": "python",
   "pygments_lexer": "ipython3",
   "version": "3.7.0"
  }
 },
 "nbformat": 4,
 "nbformat_minor": 2
}
