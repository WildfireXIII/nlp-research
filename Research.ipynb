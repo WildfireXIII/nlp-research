{
 "cells": [
  {
   "cell_type": "markdown",
   "metadata": {},
   "source": [
    "# NLP Research Notebook\n",
    "\n",
    "Nathan Martindale  \n",
    "Fall 2018\n"
   ]
  },
  {
   "cell_type": "markdown",
   "metadata": {},
   "source": [
    "### Resources\n",
    "\n",
    "[https://www.nltk.org/book/ch01.html](https://www.nltk.org/book/ch01.html)  \n",
    "[https://www.nltk.org/book/ch03.html](https://www.nltk.org/book/ch03.html)  \n",
    "[https://www.nltk.org/book/ch05.html](https://www.nltk.org/book/ch05.html)  \n",
    "[http://ad-publications.informatik.uni-freiburg.de/theses/Bachelor_Jon_Ezeiza_2017.pdf](http://ad-publications.informatik.uni-freiburg.de/theses/Bachelor_Jon_Ezeiza_2017.pdf)"
   ]
  },
  {
   "cell_type": "code",
   "execution_count": 4,
   "metadata": {},
   "outputs": [],
   "source": [
    "import nltk\n",
    "#nltk.download() # uncomment and run to download corpus"
   ]
  },
  {
   "cell_type": "code",
   "execution_count": 6,
   "metadata": {},
   "outputs": [],
   "source": [
    "from nltk.book import *"
   ]
  },
  {
   "cell_type": "markdown",
   "metadata": {},
   "source": [
    "The above brings in a bunch of test texts, available by using `text1`-`text9`"
   ]
  },
  {
   "cell_type": "code",
   "execution_count": 13,
   "metadata": {},
   "outputs": [
    {
     "name": "stdout",
     "output_type": "stream",
     "text": [
      "<Text: Inaugural Address Corpus>\n"
     ]
    }
   ],
   "source": [
    "print(text4)"
   ]
  },
  {
   "cell_type": "code",
   "execution_count": 16,
   "metadata": {},
   "outputs": [
    {
     "name": "stdout",
     "output_type": "stream",
     "text": [
      "<FreqDist with 9754 samples and 145735 outcomes>\n"
     ]
    },
    {
     "data": {
      "text/plain": [
       "[('the', 9281),\n",
       " ('of', 6970),\n",
       " (',', 6840),\n",
       " ('and', 4991),\n",
       " ('.', 4676),\n",
       " ('to', 4311),\n",
       " ('in', 2527),\n",
       " ('a', 2134),\n",
       " ('our', 1905),\n",
       " ('that', 1688),\n",
       " ('be', 1460),\n",
       " ('is', 1403),\n",
       " ('we', 1141),\n",
       " ('for', 1075),\n",
       " ('by', 1036),\n",
       " ('it', 1011),\n",
       " ('which', 1002),\n",
       " ('have', 994),\n",
       " ('not', 916),\n",
       " ('as', 888),\n",
       " ('with', 886),\n",
       " ('will', 846),\n",
       " ('I', 831),\n",
       " ('are', 774),\n",
       " ('all', 758),\n",
       " ('their', 719),\n",
       " ('this', 700),\n",
       " ('The', 619),\n",
       " ('has', 611),\n",
       " ('people', 559),\n",
       " ('its', 554),\n",
       " (';', 544),\n",
       " ('or', 537),\n",
       " ('from', 521),\n",
       " ('on', 496),\n",
       " ('We', 483),\n",
       " ('been', 482),\n",
       " ('but', 479),\n",
       " ('can', 457),\n",
       " ('us', 455),\n",
       " ('my', 449),\n",
       " ('no', 406),\n",
       " ('an', 377),\n",
       " ('--', 363),\n",
       " ('upon', 363),\n",
       " ('who', 356),\n",
       " ('It', 356),\n",
       " ('so', 354),\n",
       " ('must', 345),\n",
       " ('they', 341)]"
      ]
     },
     "execution_count": 16,
     "metadata": {},
     "output_type": "execute_result"
    }
   ],
   "source": [
    "fdist4 = FreqDist(text4)\n",
    "print(fdist4)\n",
    "fdist4.most_common(50)"
   ]
  },
  {
   "cell_type": "markdown",
   "metadata": {},
   "source": [
    "The NLTK book makes an interesting point that looking at the _long_ words of the text can be more charactersitic and informative of the text.\n",
    "\n",
    "The following gets all words over length 7 that appear more than 7 times"
   ]
  },
  {
   "cell_type": "code",
   "execution_count": 20,
   "metadata": {},
   "outputs": [
    {
     "data": {
      "text/plain": [
       "['American',\n",
       " 'Americans',\n",
       " 'Constitution',\n",
       " 'anything',\n",
       " 'attention',\n",
       " 'blessings',\n",
       " 'carrying',\n",
       " 'children',\n",
       " 'concerning',\n",
       " 'condition',\n",
       " 'considered',\n",
       " 'construction',\n",
       " 'depression',\n",
       " 'destruction',\n",
       " 'development',\n",
       " 'devotion',\n",
       " 'difference',\n",
       " 'different',\n",
       " 'discretion',\n",
       " 'election',\n",
       " 'elections',\n",
       " 'emergency',\n",
       " 'employed',\n",
       " 'entertain',\n",
       " 'entitled',\n",
       " 'especially',\n",
       " 'everything',\n",
       " 'excitement',\n",
       " 'experience',\n",
       " 'expression',\n",
       " 'feelings',\n",
       " 'financial',\n",
       " 'forgotten',\n",
       " 'friendly',\n",
       " 'goodness',\n",
       " 'humanity',\n",
       " 'immediate',\n",
       " 'important',\n",
       " 'impossible',\n",
       " 'impressed',\n",
       " 'individual',\n",
       " 'information',\n",
       " 'intelligent',\n",
       " 'involved',\n",
       " 'national',\n",
       " 'neighbor',\n",
       " 'official',\n",
       " 'opportunity',\n",
       " 'original',\n",
       " 'particular',\n",
       " 'permanent',\n",
       " 'personal',\n",
       " 'physical',\n",
       " 'platform',\n",
       " 'political',\n",
       " 'politics',\n",
       " 'position',\n",
       " 'problems',\n",
       " 'punishment',\n",
       " 'question',\n",
       " 'questions',\n",
       " 'recognize',\n",
       " 'relation',\n",
       " 'religion',\n",
       " 'remember',\n",
       " 'republican',\n",
       " 'situation',\n",
       " 'solution',\n",
       " 'something',\n",
       " 'sometimes',\n",
       " 'speaking',\n",
       " 'standing',\n",
       " 'supposed',\n",
       " 'sympathy',\n",
       " 'themselves',\n",
       " 'thoughts',\n",
       " 'together',\n",
       " 'tomorrow',\n",
       " 'understand',\n",
       " 'whatever',\n",
       " 'whenever']"
      ]
     },
     "execution_count": 20,
     "metadata": {},
     "output_type": "execute_result"
    }
   ],
   "source": [
    "sorted(w for w in set(text5) if len (w) > 7 and fdist4[w] > 7)"
   ]
  },
  {
   "cell_type": "markdown",
   "metadata": {},
   "source": [
    "**collocation** - a sequence of words that occur together unusually often.  \n",
    "**bigram** - a word pair"
   ]
  },
  {
   "cell_type": "code",
   "execution_count": 22,
   "metadata": {},
   "outputs": [
    {
     "name": "stdout",
     "output_type": "stream",
     "text": [
      "United States; fellow citizens; four years; years ago; Federal\n",
      "Government; General Government; American people; Vice President; Old\n",
      "World; Almighty God; Fellow citizens; Chief Magistrate; Chief Justice;\n",
      "God bless; every citizen; Indian tribes; public debt; one another;\n",
      "foreign nations; political parties\n"
     ]
    }
   ],
   "source": [
    "text4.collocations()"
   ]
  },
  {
   "cell_type": "code",
   "execution_count": 28,
   "metadata": {
    "code_folding": []
   },
   "outputs": [],
   "source": [
    "#theplot = fdist4.plot() # TODO: investigate options for this function"
   ]
  },
  {
   "cell_type": "markdown",
   "metadata": {},
   "source": [
    "**stem** - the main part of a word (no suffixes)"
   ]
  },
  {
   "cell_type": "markdown",
   "metadata": {},
   "source": [
    "### Fancy stuff"
   ]
  },
  {
   "cell_type": "code",
   "execution_count": 47,
   "metadata": {
    "scrolled": true
   },
   "outputs": [
    {
     "name": "stdout",
     "output_type": "stream",
     "text": [
      "HARARE (Reuters) - Zimbabwe's main opposition leader, Nelson Chamisa, filed a court challenge on Friday against President Emmerson Mnangagwa's election victory, halting Mnangagwa's planned Sunday inauguration.\n",
      "The first election since Robert Mugabe was forced to resign after a coup in November had been expected to end Zimbabwe's pariah status and launch an economic recovery but post-election unrest has reminded the country of its violent past.\n",
      "Chamisa's lawyer Thabani Mpofu said he had asked the Constitutional Court to nullify the July 30 vote and that his court application meant Mnangagwa's swearing-in had been halted.\n",
      "Justice Minister Ziyambi Ziyambi told Reuters Sunday's inauguration \"will no longer happen\" until the case is finalised.\n",
      "\"On the basis of the evidence we have placed before the court, we seek in the main relief to the effect that the court should declare the proper winner and the proper winner is my client,\" Mpofu told reporters outside.\n",
      "\"In the alternative, we seek that there be another election which complies with the dictates of the law,\" Mpofu said. \"There is no inauguration that will take place until the matter is determined by the court.\"\n",
      "The constitution requires a losing presidential candidate to file any challenge within seven days of a winner being declared.\n",
      "The Constitutional Court, which can declare a new winner or order a fresh election, must rule within 14 days of an election petition.\n",
      "Mnangagwa's ruling ZANU-PF party dismissed the legal action.\n",
      "\"I am confident they have no case. Elections are not won in court, they are won in the field. But if they want to meet us in court we have sufficient legal minds to meet them squarely in court,\" ZANU-PF legal secretary Paul Mangwana said.\n",
      "POST-ELECTION VIOLENCE\n",
      "Mnangagwa secured a comfortable victory in last month's vote, according to results from the Zimbabwe Electoral Commission, polling 2.46 million votes against 2.15 million for the 40-year-old Chamisa. The opposition said the result was rigged.\n",
      "The election passed off relatively smoothly but its aftermath revealed the deep rifts in Zimbabwean society.\n",
      "Two days after the vote, six people were killed in an army crackdown on protests against the victory by Mnangagwa's ruling ZANU-PF party.\n",
      "The Zimbabwe Human Rights Commission said it was concerned that no one was taking responsibility for the deployment of soldiers that the opposition says were harassing its supporters and ordinary citizens in townships at night.\n",
      "\"This poses an even bigger danger to communities as it appears that the soldiers beating up civilians are not accountable to anyone,\" the commission said.\n",
      "Britain's Minister for Africa Harriett Baldwin said in a statement she had spoken to Chamisa and Zimbabwe's Foreign Minister Sibusiso Moyo to urge calm while the election challenge was being considered by the court.\n",
      "Earlier on Friday, opposition leader and former finance minister Tendai Biti appeared in court to challenge his arrest on Thursday on charges of public violence and illegally announcing election results. The case was postponed to next Wednesday.\n"
     ]
    }
   ],
   "source": [
    "from unidecode import unidecode\n",
    "\n",
    "lines = \"\"\n",
    "with open('./sample_article1.txt') as file:\n",
    "    lines = file.readlines()\n",
    "    \n",
    "articletext = ''.join(lines)\n",
    "articletext = unidecode(articletext) # we don't need none of your fancyass unicode-quote monkey business here...\n",
    "print(articletext)\n"
   ]
  },
  {
   "cell_type": "code",
   "execution_count": 50,
   "metadata": {},
   "outputs": [],
   "source": [
    "tokens = nltk.word_tokenize(articletext)\n",
    "\n",
    "# run stemmer\n",
    "#porter = nltk.PorterStemmer()\n",
    "#[porter.stem(t) for t in tokens]\n",
    "\n",
    "tagged = nltk.pos_tag(tokens)"
   ]
  },
  {
   "cell_type": "code",
   "execution_count": 57,
   "metadata": {},
   "outputs": [
    {
     "data": {
      "text/plain": [
       "FreqDist({'Mnangagwa': 6, 'Chamisa': 4, 'Zimbabwe': 4, 'Mpofu': 3, 'Minister': 3, 'Reuters': 2, 'Friday': 2, 'Sunday': 2, 'Court': 2, 'Ziyambi': 2, ...})"
      ]
     },
     "execution_count": 57,
     "metadata": {},
     "output_type": "execute_result"
    }
   ],
   "source": [
    "# find all of the proper nouns\n",
    "propernouns = [word for (word, tag) in tagged if tag == \"NNP\"]\n",
    "\n",
    "nltk.FreqDist(propernouns)"
   ]
  },
  {
   "cell_type": "code",
   "execution_count": 2,
   "metadata": {},
   "outputs": [
    {
     "ename": "NameError",
     "evalue": "name 'tokens' is not defined",
     "output_type": "error",
     "traceback": [
      "\u001b[0;31m---------------------------------------------------------------------------\u001b[0m",
      "\u001b[0;31mNameError\u001b[0m                                 Traceback (most recent call last)",
      "\u001b[0;32m<ipython-input-2-d7df9b7e108f>\u001b[0m in \u001b[0;36m<module>\u001b[0;34m()\u001b[0m\n\u001b[0;32m----> 1\u001b[0;31m \u001b[0mprint\u001b[0m\u001b[0;34m(\u001b[0m\u001b[0mtokens\u001b[0m\u001b[0;34m)\u001b[0m\u001b[0;34m\u001b[0m\u001b[0m\n\u001b[0m",
      "\u001b[0;31mNameError\u001b[0m: name 'tokens' is not defined"
     ]
    }
   ],
   "source": [
    "print(tokens)"
   ]
  },
  {
   "cell_type": "markdown",
   "metadata": {},
   "source": [
    "## Process\n",
    "\n",
    "**tokenization** - \"Tokenization is the task of splitting the text into more meaningful character sequence groups, usually words or sentences. It is almost always thee first step in any NLP pipeline (bachelor thesis)\n",
    "\n",
    "+ **normalization** - Normalization is the exercise of removing undesired variation from text (^)\n",
    "+ **stemming** - Removes morphological variation by algorithm means (for example changing plurals)\n",
    "+ **lemmatization** - Alternative method based on dictionaries to extract correct roots from words\n",
    "\n",
    "**parsing** - Annotation tasks to identify role of words in context, allowing higher levels of abstraction.\n",
    "\n",
    "+ **POS tagging** - Annotating each word with a morphological class (adjective, verb, etc)\n",
    "+ **Syntactical analysis** - Determine the role of each word in the sentence and capture dependencies between each component)(extracting subject-verb-object triplets is an example)\n",
    "+ **Abstract meaning representation** - unification of POS tagging and syntactic parsing with real world information (named entity recognition, word sense disambiguation). <span style=\"color: red\">ONLY PARTIAL SOLUTIONS EXIST</span>\n",
    "\n",
    "Section 2.3 in the bachelor thesis is extremely useful\n",
    "\n",
    "**Vector Space Model** - way of representing documents in algebraic form, (generally bag of words?). Actual frequencies aren't stored, but weight that represents \"relvance measure\" of the term in the document is. Most popular weightings are **tf-idf** and **bm25**\n",
    "\n",
    "**Tf-idf** - term frequency - inverse document frequency - in order to cut down on recognizing \"stop words\" as relevant, weights are also based on how many other documents a word appears in. (Good for marking the difference between documents)\n",
    "\n",
    "NOTE: (stopped on page 15, section 2.6)"
   ]
  }
 ],
 "metadata": {
  "kernelspec": {
   "display_name": "Python 3",
   "language": "python",
   "name": "python3"
  },
  "language_info": {
   "codemirror_mode": {
    "name": "ipython",
    "version": 3
   },
   "file_extension": ".py",
   "mimetype": "text/x-python",
   "name": "python",
   "nbconvert_exporter": "python",
   "pygments_lexer": "ipython3",
   "version": "3.7.0"
  }
 },
 "nbformat": 4,
 "nbformat_minor": 2
}
